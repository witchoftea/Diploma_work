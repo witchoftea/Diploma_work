{
 "cells": [
  {
   "cell_type": "code",
   "id": "initial_id",
   "metadata": {
    "collapsed": true,
    "ExecuteTime": {
     "end_time": "2025-05-11T13:19:08.273882Z",
     "start_time": "2025-05-11T13:19:06.581963Z"
    }
   },
   "source": [
    "import pandas as pd\n",
    "import numpy as np\n",
    "from sklearn.model_selection import train_test_split\n",
    "from lightfm import LightFM\n",
    "from lightfm.data import Dataset\n",
    "from lightfm.evaluation import precision_at_k, recall_at_k\n",
    "import gradio as gr\n",
    "from collections import defaultdict"
   ],
   "outputs": [
    {
     "name": "stderr",
     "output_type": "stream",
     "text": [
      "/opt/anaconda3/envs/diploma_recomm/lib/python3.10/site-packages/lightfm/_lightfm_fast.py:9: UserWarning: LightFM was compiled without OpenMP support. Only a single thread will be used.\n",
      "  warnings.warn(\n"
     ]
    }
   ],
   "execution_count": 1
  },
  {
   "cell_type": "code",
   "source": [
    "ratings_path = \"ratings.csv\"\n",
    "books_path = \"books.csv\""
   ],
   "metadata": {
    "collapsed": false,
    "ExecuteTime": {
     "end_time": "2025-05-11T13:19:08.279415Z",
     "start_time": "2025-05-11T13:19:08.277732Z"
    }
   },
   "id": "41235d07e7f3aed6",
   "outputs": [],
   "execution_count": 2
  },
  {
   "cell_type": "code",
   "source": [
    "ratings = pd.read_csv(ratings_path)\n",
    "books =  pd.read_csv(books_path)"
   ],
   "metadata": {
    "collapsed": false,
    "ExecuteTime": {
     "end_time": "2025-05-11T13:19:08.811131Z",
     "start_time": "2025-05-11T13:19:08.329282Z"
    }
   },
   "id": "1d988a80ffcad24c",
   "outputs": [],
   "execution_count": 3
  },
  {
   "metadata": {},
   "cell_type": "markdown",
   "source": "Теги (жанри)",
   "id": "b79e891e98b223b7"
  },
  {
   "metadata": {
    "ExecuteTime": {
     "end_time": "2025-05-11T13:19:08.944590Z",
     "start_time": "2025-05-11T13:19:08.832193Z"
    }
   },
   "cell_type": "code",
   "source": [
    "book_tags = pd.read_csv(\"book_tags.csv\")\n",
    "tags = pd.read_csv(\"tags.csv\")"
   ],
   "id": "40e7937f6ba50b8f",
   "outputs": [],
   "execution_count": 4
  },
  {
   "metadata": {
    "ExecuteTime": {
     "end_time": "2025-05-11T13:19:18.535837Z",
     "start_time": "2025-05-11T13:19:08.947890Z"
    }
   },
   "cell_type": "code",
   "source": [
    "# Об'єднання\n",
    "book_tags = book_tags.merge(tags, on=\"tag_id\", how=\"left\")\n",
    "book_tags = book_tags.merge(books[[\"book_id\", \"goodreads_book_id\"]], on=\"goodreads_book_id\", how=\"inner\")\n",
    "\n",
    "# Залишаємо лише найчастіші теги\n",
    "book_tags = book_tags[book_tags[\"count\"] > 10]\n",
    "\n",
    "# Створюємо mapping: genre_name -> [book_id1, book_id2, ...]\n",
    "\n",
    "tag_to_books = defaultdict(list)\n",
    "for _, row in book_tags.iterrows():\n",
    "    tag = row['tag_name'].lower()\n",
    "    tag_to_books[tag].append((row['book_id'], row['count']))"
   ],
   "id": "10f6c900f8769015",
   "outputs": [],
   "execution_count": 5
  },
  {
   "metadata": {
    "ExecuteTime": {
     "end_time": "2025-05-11T13:19:18.751073Z",
     "start_time": "2025-05-11T13:19:18.730122Z"
    }
   },
   "cell_type": "code",
   "source": [
    "# список популярних жанрів (знадобиться для інтер-у Gradio)\n",
    "top_genres = (\n",
    "    book_tags[\"tag_name\"]\n",
    "    .value_counts()\n",
    "    .loc[lambda s: s > 50]\n",
    "    .head(30)\n",
    "    .index\n",
    "    .tolist()\n",
    ")"
   ],
   "id": "ff544ee57b330e0",
   "outputs": [],
   "execution_count": 6
  },
  {
   "cell_type": "code",
   "source": [
    "print(ratings.shape)\n",
    "ratings.head(3)"
   ],
   "metadata": {
    "collapsed": false,
    "ExecuteTime": {
     "end_time": "2025-05-11T13:19:18.941489Z",
     "start_time": "2025-05-11T13:19:18.935979Z"
    }
   },
   "id": "40a04c2f0cbdb966",
   "outputs": [
    {
     "name": "stdout",
     "output_type": "stream",
     "text": [
      "(5976479, 3)\n"
     ]
    },
    {
     "data": {
      "text/plain": [
       "   user_id  book_id  rating\n",
       "0        1      258       5\n",
       "1        2     4081       4\n",
       "2        2      260       5"
      ],
      "text/html": [
       "<div>\n",
       "<style scoped>\n",
       "    .dataframe tbody tr th:only-of-type {\n",
       "        vertical-align: middle;\n",
       "    }\n",
       "\n",
       "    .dataframe tbody tr th {\n",
       "        vertical-align: top;\n",
       "    }\n",
       "\n",
       "    .dataframe thead th {\n",
       "        text-align: right;\n",
       "    }\n",
       "</style>\n",
       "<table border=\"1\" class=\"dataframe\">\n",
       "  <thead>\n",
       "    <tr style=\"text-align: right;\">\n",
       "      <th></th>\n",
       "      <th>user_id</th>\n",
       "      <th>book_id</th>\n",
       "      <th>rating</th>\n",
       "    </tr>\n",
       "  </thead>\n",
       "  <tbody>\n",
       "    <tr>\n",
       "      <th>0</th>\n",
       "      <td>1</td>\n",
       "      <td>258</td>\n",
       "      <td>5</td>\n",
       "    </tr>\n",
       "    <tr>\n",
       "      <th>1</th>\n",
       "      <td>2</td>\n",
       "      <td>4081</td>\n",
       "      <td>4</td>\n",
       "    </tr>\n",
       "    <tr>\n",
       "      <th>2</th>\n",
       "      <td>2</td>\n",
       "      <td>260</td>\n",
       "      <td>5</td>\n",
       "    </tr>\n",
       "  </tbody>\n",
       "</table>\n",
       "</div>"
      ]
     },
     "execution_count": 7,
     "metadata": {},
     "output_type": "execute_result"
    }
   ],
   "execution_count": 7
  },
  {
   "metadata": {
    "ExecuteTime": {
     "end_time": "2025-05-11T13:19:19.150641Z",
     "start_time": "2025-05-11T13:19:19.144695Z"
    }
   },
   "cell_type": "code",
   "source": "books.head(3)",
   "id": "6f902646e9b5aefb",
   "outputs": [
    {
     "data": {
      "text/plain": [
       "   book_id  goodreads_book_id  best_book_id  work_id  books_count       isbn  \\\n",
       "0        1            2767052       2767052  2792775          272  439023483   \n",
       "1        2                  3             3  4640799          491  439554934   \n",
       "2        3              41865         41865  3212258          226  316015849   \n",
       "\n",
       "         isbn13                      authors  original_publication_year  \\\n",
       "0  9.780439e+12              Suzanne Collins                     2008.0   \n",
       "1  9.780440e+12  J.K. Rowling, Mary GrandPré                     1997.0   \n",
       "2  9.780316e+12              Stephenie Meyer                     2005.0   \n",
       "\n",
       "                             original_title  ... ratings_count  \\\n",
       "0                          The Hunger Games  ...       4780653   \n",
       "1  Harry Potter and the Philosopher's Stone  ...       4602479   \n",
       "2                                  Twilight  ...       3866839   \n",
       "\n",
       "  work_ratings_count  work_text_reviews_count  ratings_1  ratings_2  \\\n",
       "0            4942365                   155254      66715     127936   \n",
       "1            4800065                    75867      75504     101676   \n",
       "2            3916824                    95009     456191     436802   \n",
       "\n",
       "   ratings_3  ratings_4  ratings_5  \\\n",
       "0     560092    1481305    2706317   \n",
       "1     455024    1156318    3011543   \n",
       "2     793319     875073    1355439   \n",
       "\n",
       "                                           image_url  \\\n",
       "0  https://images.gr-assets.com/books/1447303603m...   \n",
       "1  https://images.gr-assets.com/books/1474154022m...   \n",
       "2  https://images.gr-assets.com/books/1361039443m...   \n",
       "\n",
       "                                     small_image_url  \n",
       "0  https://images.gr-assets.com/books/1447303603s...  \n",
       "1  https://images.gr-assets.com/books/1474154022s...  \n",
       "2  https://images.gr-assets.com/books/1361039443s...  \n",
       "\n",
       "[3 rows x 23 columns]"
      ],
      "text/html": [
       "<div>\n",
       "<style scoped>\n",
       "    .dataframe tbody tr th:only-of-type {\n",
       "        vertical-align: middle;\n",
       "    }\n",
       "\n",
       "    .dataframe tbody tr th {\n",
       "        vertical-align: top;\n",
       "    }\n",
       "\n",
       "    .dataframe thead th {\n",
       "        text-align: right;\n",
       "    }\n",
       "</style>\n",
       "<table border=\"1\" class=\"dataframe\">\n",
       "  <thead>\n",
       "    <tr style=\"text-align: right;\">\n",
       "      <th></th>\n",
       "      <th>book_id</th>\n",
       "      <th>goodreads_book_id</th>\n",
       "      <th>best_book_id</th>\n",
       "      <th>work_id</th>\n",
       "      <th>books_count</th>\n",
       "      <th>isbn</th>\n",
       "      <th>isbn13</th>\n",
       "      <th>authors</th>\n",
       "      <th>original_publication_year</th>\n",
       "      <th>original_title</th>\n",
       "      <th>...</th>\n",
       "      <th>ratings_count</th>\n",
       "      <th>work_ratings_count</th>\n",
       "      <th>work_text_reviews_count</th>\n",
       "      <th>ratings_1</th>\n",
       "      <th>ratings_2</th>\n",
       "      <th>ratings_3</th>\n",
       "      <th>ratings_4</th>\n",
       "      <th>ratings_5</th>\n",
       "      <th>image_url</th>\n",
       "      <th>small_image_url</th>\n",
       "    </tr>\n",
       "  </thead>\n",
       "  <tbody>\n",
       "    <tr>\n",
       "      <th>0</th>\n",
       "      <td>1</td>\n",
       "      <td>2767052</td>\n",
       "      <td>2767052</td>\n",
       "      <td>2792775</td>\n",
       "      <td>272</td>\n",
       "      <td>439023483</td>\n",
       "      <td>9.780439e+12</td>\n",
       "      <td>Suzanne Collins</td>\n",
       "      <td>2008.0</td>\n",
       "      <td>The Hunger Games</td>\n",
       "      <td>...</td>\n",
       "      <td>4780653</td>\n",
       "      <td>4942365</td>\n",
       "      <td>155254</td>\n",
       "      <td>66715</td>\n",
       "      <td>127936</td>\n",
       "      <td>560092</td>\n",
       "      <td>1481305</td>\n",
       "      <td>2706317</td>\n",
       "      <td>https://images.gr-assets.com/books/1447303603m...</td>\n",
       "      <td>https://images.gr-assets.com/books/1447303603s...</td>\n",
       "    </tr>\n",
       "    <tr>\n",
       "      <th>1</th>\n",
       "      <td>2</td>\n",
       "      <td>3</td>\n",
       "      <td>3</td>\n",
       "      <td>4640799</td>\n",
       "      <td>491</td>\n",
       "      <td>439554934</td>\n",
       "      <td>9.780440e+12</td>\n",
       "      <td>J.K. Rowling, Mary GrandPré</td>\n",
       "      <td>1997.0</td>\n",
       "      <td>Harry Potter and the Philosopher's Stone</td>\n",
       "      <td>...</td>\n",
       "      <td>4602479</td>\n",
       "      <td>4800065</td>\n",
       "      <td>75867</td>\n",
       "      <td>75504</td>\n",
       "      <td>101676</td>\n",
       "      <td>455024</td>\n",
       "      <td>1156318</td>\n",
       "      <td>3011543</td>\n",
       "      <td>https://images.gr-assets.com/books/1474154022m...</td>\n",
       "      <td>https://images.gr-assets.com/books/1474154022s...</td>\n",
       "    </tr>\n",
       "    <tr>\n",
       "      <th>2</th>\n",
       "      <td>3</td>\n",
       "      <td>41865</td>\n",
       "      <td>41865</td>\n",
       "      <td>3212258</td>\n",
       "      <td>226</td>\n",
       "      <td>316015849</td>\n",
       "      <td>9.780316e+12</td>\n",
       "      <td>Stephenie Meyer</td>\n",
       "      <td>2005.0</td>\n",
       "      <td>Twilight</td>\n",
       "      <td>...</td>\n",
       "      <td>3866839</td>\n",
       "      <td>3916824</td>\n",
       "      <td>95009</td>\n",
       "      <td>456191</td>\n",
       "      <td>436802</td>\n",
       "      <td>793319</td>\n",
       "      <td>875073</td>\n",
       "      <td>1355439</td>\n",
       "      <td>https://images.gr-assets.com/books/1361039443m...</td>\n",
       "      <td>https://images.gr-assets.com/books/1361039443s...</td>\n",
       "    </tr>\n",
       "  </tbody>\n",
       "</table>\n",
       "<p>3 rows × 23 columns</p>\n",
       "</div>"
      ]
     },
     "execution_count": 8,
     "metadata": {},
     "output_type": "execute_result"
    }
   ],
   "execution_count": 8
  },
  {
   "metadata": {
    "ExecuteTime": {
     "end_time": "2025-05-11T13:19:19.427913Z",
     "start_time": "2025-05-11T13:19:19.170897Z"
    }
   },
   "cell_type": "code",
   "source": "len(set(ratings['book_id']).intersection(set(books['book_id'])))",
   "id": "fef436142bc66166",
   "outputs": [
    {
     "data": {
      "text/plain": [
       "10000"
      ]
     },
     "execution_count": 9,
     "metadata": {},
     "output_type": "execute_result"
    }
   ],
   "execution_count": 9
  },
  {
   "metadata": {
    "ExecuteTime": {
     "end_time": "2025-05-11T13:19:20.443198Z",
     "start_time": "2025-05-11T13:19:19.457356Z"
    }
   },
   "cell_type": "code",
   "source": [
    "df = ratings.merge(books, on='book_id', how='inner')\n",
    "df = df[df['user_id'] < 500]"
   ],
   "id": "ab23ba45ba977f87",
   "outputs": [],
   "execution_count": 10
  },
  {
   "metadata": {
    "ExecuteTime": {
     "end_time": "2025-05-11T13:19:20.549870Z",
     "start_time": "2025-05-11T13:19:20.463965Z"
    }
   },
   "cell_type": "code",
   "source": [
    "\n",
    "authorDf = df[['authors', 'book_id']].drop_duplicates()\n",
    "\n",
    "itemFeatureAssignments = [] # item, feature tuples\n",
    "itemFeatureList = [] # list of unique item feature values\n",
    "for ii in range(len(authorDf)):\n",
    "    itemFeatureAssignments.append((authorDf['book_id'].iloc[ii], \n",
    "                          authorDf['authors'].iloc[ii].split(\", \")))\n",
    "    itemFeatureList.extend(authorDf['authors'].iloc[ii].split(\", \"))\n",
    "\n",
    "itemFeatureList = set(itemFeatureList)\n",
    "\n",
    "itemFeatureAssignments[:10]"
   ],
   "id": "1d64dc0a10e3aa73",
   "outputs": [
    {
     "data": {
      "text/plain": [
       "[(np.int64(258), ['Carlos Ruiz Zafón', 'Lucia Graves']),\n",
       " (np.int64(4081), ['Tom Wolfe']),\n",
       " (np.int64(260), ['Dale Carnegie']),\n",
       " (np.int64(9296), ['Alice  Miller', 'Ruth Ward']),\n",
       " (np.int64(2318), ['Thomas J. Stanley', 'William D. Danko']),\n",
       " (np.int64(26), ['Dan Brown']),\n",
       " (np.int64(315), ['Spencer Johnson', 'Kenneth H. Blanchard']),\n",
       " (np.int64(33), ['Arthur Golden']),\n",
       " (np.int64(301), ['Joseph Conrad']),\n",
       " (np.int64(2686), ['W. Chan Kim', 'Renée Mauborgne'])]"
      ]
     },
     "execution_count": 11,
     "metadata": {},
     "output_type": "execute_result"
    }
   ],
   "execution_count": 11
  },
  {
   "metadata": {
    "ExecuteTime": {
     "end_time": "2025-05-11T13:19:20.590589Z",
     "start_time": "2025-05-11T13:19:20.555935Z"
    }
   },
   "cell_type": "code",
   "source": [
    "# Make LightFM dataset\n",
    "dataset = Dataset()\n",
    "dataset.fit(users = df['user_id'],\n",
    "            items = df['book_id'],\n",
    "            item_features = itemFeatureList,\n",
    "           )\n",
    "item_features = dataset.build_item_features(itemFeatureAssignments)"
   ],
   "id": "d4aac733e0bb72ec",
   "outputs": [],
   "execution_count": 12
  },
  {
   "metadata": {
    "ExecuteTime": {
     "end_time": "2025-05-11T13:19:20.839377Z",
     "start_time": "2025-05-11T13:19:20.787852Z"
    }
   },
   "cell_type": "code",
   "source": [
    "trainDf, testDf = train_test_split(df, train_size=0.8)\n",
    "train, _ = dataset.build_interactions(list(zip(trainDf['user_id'], trainDf['book_id'])))\n",
    "test, _ = dataset.build_interactions(list(zip(testDf['user_id'], testDf['book_id'])))"
   ],
   "id": "ceccfa2e8ddd784b",
   "outputs": [],
   "execution_count": 13
  },
  {
   "metadata": {
    "ExecuteTime": {
     "end_time": "2025-05-11T13:19:21.097042Z",
     "start_time": "2025-05-11T13:19:21.058910Z"
    }
   },
   "cell_type": "code",
   "source": [
    "numEpochs = 1\n",
    "\n",
    "model = LightFM(loss='warp', \n",
    "          learning_rate=0.05,\n",
    "          random_state = 1)\n",
    "model.fit(train, \n",
    "          epochs=numEpochs, \n",
    "          item_features=item_features)"
   ],
   "id": "aa49cd40baea8c01",
   "outputs": [
    {
     "data": {
      "text/plain": [
       "<lightfm.lightfm.LightFM at 0x131355000>"
      ]
     },
     "execution_count": 14,
     "metadata": {},
     "output_type": "execute_result"
    }
   ],
   "execution_count": 14
  },
  {
   "metadata": {
    "ExecuteTime": {
     "end_time": "2025-05-11T13:19:21.311269Z",
     "start_time": "2025-05-11T13:19:21.307580Z"
    }
   },
   "cell_type": "code",
   "source": [
    "# Мапінг з оригінального user_id / book_id до внутрішніх індексів\n",
    "user_id_map, user_feature_map, item_id_map, item_feature_map = dataset.mapping()\n",
    "\n",
    "# Зворотні мапінги\n",
    "inv_user_id_map = {v: k for k, v in user_id_map.items()}\n",
    "inv_item_id_map = {v: k for k, v in item_id_map.items()}\n",
    "\n",
    "book_id_to_title = dict(zip(books['book_id'], books['title']))"
   ],
   "id": "79817d76c64cb13d",
   "outputs": [],
   "execution_count": 15
  },
  {
   "metadata": {
    "ExecuteTime": {
     "end_time": "2025-05-11T13:19:21.523467Z",
     "start_time": "2025-05-11T13:19:21.520592Z"
    }
   },
   "cell_type": "code",
   "source": [
    "def recommend_books_for_user(user_id, model, dataset, item_features, N=5):\n",
    "    if user_id not in user_id_map:\n",
    "        return f\"Користувача з user_id={user_id} не знайдено.\"\n",
    "\n",
    "    internal_uid = user_id_map[user_id]\n",
    "    all_items = list(item_id_map.values())\n",
    "    scores = model.predict(internal_uid, all_items, item_features=item_features)\n",
    "\n",
    "    top_item_indices = np.argsort(-scores)[:N]\n",
    "    top_book_ids = [inv_item_id_map[i] for i in top_item_indices]\n",
    "    top_titles = [book_id_to_title.get(book_id, f\"ID {book_id}\") for book_id in top_book_ids]\n",
    "\n",
    "    return top_titles"
   ],
   "id": "fbeb9ffeb1216885",
   "outputs": [],
   "execution_count": 16
  },
  {
   "metadata": {
    "ExecuteTime": {
     "end_time": "2025-05-11T13:19:21.742363Z",
     "start_time": "2025-05-11T13:19:21.738537Z"
    }
   },
   "cell_type": "code",
   "source": "recommend_books_for_user(42, model, dataset, item_features)\n",
   "id": "6f5af263a01769af",
   "outputs": [
    {
     "data": {
      "text/plain": [
       "['The Catcher in the Rye',\n",
       " 'Harry Potter and the Order of the Phoenix (Harry Potter, #5)',\n",
       " \"Harry Potter and the Sorcerer's Stone (Harry Potter, #1)\",\n",
       " 'Harry Potter and the Chamber of Secrets (Harry Potter, #2)',\n",
       " 'The Kite Runner']"
      ]
     },
     "execution_count": 17,
     "metadata": {},
     "output_type": "execute_result"
    }
   ],
   "execution_count": 17
  },
  {
   "metadata": {
    "ExecuteTime": {
     "end_time": "2025-05-11T13:19:22.418207Z",
     "start_time": "2025-05-11T13:19:21.946043Z"
    }
   },
   "cell_type": "code",
   "source": [
    "print(\"Precision@5:\", precision_at_k(model, test, item_features=item_features, k=5).mean())\n",
    "print(\"Recall@5:\", recall_at_k(model, test, item_features=item_features, k=5).mean())"
   ],
   "id": "75969d3c6ee4d9f8",
   "outputs": [
    {
     "name": "stdout",
     "output_type": "stream",
     "text": [
      "Precision@5: 0.07134269\n",
      "Recall@5: 0.016387978418262117\n"
     ]
    }
   ],
   "execution_count": 18
  },
  {
   "metadata": {},
   "cell_type": "markdown",
   "source": "# Інтерфейс",
   "id": "9609942444baedfb"
  },
  {
   "metadata": {
    "ExecuteTime": {
     "end_time": "2025-05-11T13:19:22.638539Z",
     "start_time": "2025-05-11T13:19:22.636307Z"
    }
   },
   "cell_type": "code",
   "source": [
    "def get_books_read_by_user(user_id):\n",
    "    if user_id not in user_id_map:\n",
    "        return []\n",
    "    return df[df['user_id'] == user_id]['book_id'].map(book_id_to_title).dropna().unique().tolist()"
   ],
   "id": "ffbd89aaac27ec55",
   "outputs": [],
   "execution_count": 19
  },
  {
   "metadata": {
    "ExecuteTime": {
     "end_time": "2025-05-11T13:19:22.839818Z",
     "start_time": "2025-05-11T13:19:22.837311Z"
    }
   },
   "cell_type": "code",
   "source": [
    "def gradio_recommender_with_history(input_user_id):\n",
    "    try:\n",
    "        user_id = int(input_user_id)\n",
    "        read_books = get_books_read_by_user(user_id)\n",
    "        recommendations = recommend_books_for_user(user_id, model, dataset, item_features, N=5)\n",
    "        return (\n",
    "            \"\\n\".join(read_books) if read_books else \"–\",\n",
    "            \"\\n\".join(recommendations) if isinstance(recommendations, list) else recommendations\n",
    "        )\n",
    "    except:\n",
    "        return \"–\", \"Введіть коректний числовий user_id.\"\n"
   ],
   "id": "526ed42c35844720",
   "outputs": [],
   "execution_count": 20
  },
  {
   "metadata": {
    "ExecuteTime": {
     "end_time": "2025-05-11T13:19:23.048877Z",
     "start_time": "2025-05-11T13:19:23.046176Z"
    }
   },
   "cell_type": "code",
   "source": [
    "def recommend_by_genre(selected_genres, top_n=5):\n",
    "    selected_genres = [g.lower() for g in selected_genres]\n",
    "    book_candidates = defaultdict(int)\n",
    "\n",
    "    for genre in selected_genres:\n",
    "        for book_id, count in tag_to_books.get(genre, []):\n",
    "            if book_id in book_id_to_title:\n",
    "                book_candidates[book_id] += count  # накопичуємо значущість\n",
    "\n",
    "    if not book_candidates:\n",
    "        return \"Нічого не знайдено.\"\n",
    "\n",
    "    # Сортуємо книги за сумарною значущістю (count по обраних жанрах)\n",
    "    top_books = sorted(book_candidates.items(), key=lambda x: -x[1])[:top_n]\n",
    "    return \"\\n\".join(f\"{book_id_to_title.get(bid, str(bid))} (відповідність жанру: {score})\"\n",
    "                     for bid, score in top_books)"
   ],
   "id": "fa8a566ff48442e4",
   "outputs": [],
   "execution_count": 21
  },
  {
   "metadata": {
    "ExecuteTime": {
     "end_time": "2025-05-11T13:19:23.445162Z",
     "start_time": "2025-05-11T13:19:23.257953Z"
    }
   },
   "cell_type": "code",
   "source": [
    "with gr.Blocks() as demo:\n",
    "    gr.Markdown(\"## 📚 Персоналізована система рекомендацій книг\")\n",
    "\n",
    "    with gr.Tab(\"Існуючий користувач\"):\n",
    "        user_input = gr.Textbox(label=\"User ID\", placeholder=\"наприклад, 42\")\n",
    "        read_output = gr.Textbox(label=\"Прочитані книги\")\n",
    "        rec_output = gr.Textbox(label=\"Рекомендовані книги\")\n",
    "\n",
    "        recommend_btn = gr.Button(\"Отримати рекомендації\")\n",
    "\n",
    "        def full_recommend(user_id):\n",
    "            read, rec = gradio_recommender_with_history(user_id)\n",
    "            return read, rec\n",
    "\n",
    "        recommend_btn.click(fn=full_recommend, inputs=user_input, outputs=[read_output, rec_output])\n",
    "        \n",
    "    with gr.Tab(\"Новий користувач\"):\n",
    "        genre_input = gr.CheckboxGroup(choices=top_genres, label=\"Оберіть жанри\")\n",
    "        genre_rec_output = gr.Textbox(label=\"Популярні книги за жанрами\")\n",
    "        genre_btn = gr.Button(\"Підібрати\")\n",
    "    \n",
    "        genre_btn.click(fn=recommend_by_genre, inputs=genre_input, outputs=genre_rec_output)\n",
    "\n",
    "\n",
    "demo.launch()\n"
   ],
   "id": "96e078668dc00c30",
   "outputs": [
    {
     "name": "stdout",
     "output_type": "stream",
     "text": [
      "* Running on local URL:  http://127.0.0.1:7860\n",
      "\n",
      "To create a public link, set `share=True` in `launch()`.\n"
     ]
    },
    {
     "data": {
      "text/plain": [
       "<IPython.core.display.HTML object>"
      ],
      "text/html": [
       "<div><iframe src=\"http://127.0.0.1:7860/\" width=\"100%\" height=\"500\" allow=\"autoplay; camera; microphone; clipboard-read; clipboard-write;\" frameborder=\"0\" allowfullscreen></iframe></div>"
      ]
     },
     "metadata": {},
     "output_type": "display_data"
    },
    {
     "data": {
      "text/plain": []
     },
     "execution_count": 22,
     "metadata": {},
     "output_type": "execute_result"
    }
   ],
   "execution_count": 22
  },
  {
   "metadata": {
    "ExecuteTime": {
     "end_time": "2025-05-11T13:19:23.667579Z",
     "start_time": "2025-05-11T13:19:23.666192Z"
    }
   },
   "cell_type": "code",
   "source": "",
   "id": "2348e60c1914019c",
   "outputs": [],
   "execution_count": null
  },
  {
   "metadata": {
    "ExecuteTime": {
     "end_time": "2025-05-11T13:19:23.873807Z",
     "start_time": "2025-05-11T13:19:23.872616Z"
    }
   },
   "cell_type": "code",
   "source": "",
   "id": "ffb2634a24921043",
   "outputs": [],
   "execution_count": null
  },
  {
   "metadata": {},
   "cell_type": "code",
   "outputs": [],
   "execution_count": null,
   "source": "",
   "id": "dde9e5cc50ce76a5"
  }
 ],
 "metadata": {
  "kernelspec": {
   "display_name": "Python 3",
   "language": "python",
   "name": "python3"
  },
  "language_info": {
   "codemirror_mode": {
    "name": "ipython",
    "version": 2
   },
   "file_extension": ".py",
   "mimetype": "text/x-python",
   "name": "python",
   "nbconvert_exporter": "python",
   "pygments_lexer": "ipython2",
   "version": "2.7.6"
  }
 },
 "nbformat": 4,
 "nbformat_minor": 5
}
