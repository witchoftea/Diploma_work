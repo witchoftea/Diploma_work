{
 "cells": [
  {
   "cell_type": "code",
   "id": "initial_id",
   "metadata": {
    "collapsed": true,
    "ExecuteTime": {
     "end_time": "2025-06-02T20:21:52.177349Z",
     "start_time": "2025-06-02T20:21:50.113643Z"
    }
   },
   "source": [
    "import pandas as pd\n",
    "import numpy as np\n",
    "from sklearn.model_selection import train_test_split\n",
    "from lightfm import LightFM\n",
    "from lightfm.data import Dataset\n",
    "from lightfm.evaluation import precision_at_k, recall_at_k\n",
    "import gradio as gr\n",
    "from collections import defaultdict"
   ],
   "outputs": [
    {
     "name": "stderr",
     "output_type": "stream",
     "text": [
      "/opt/anaconda3/envs/diploma_recomm/lib/python3.10/site-packages/lightfm/_lightfm_fast.py:9: UserWarning: LightFM was compiled without OpenMP support. Only a single thread will be used.\n",
      "  warnings.warn(\n"
     ]
    }
   ],
   "execution_count": 1
  },
  {
   "metadata": {
    "ExecuteTime": {
     "end_time": "2025-06-02T20:21:52.193551Z",
     "start_time": "2025-06-02T20:21:52.180755Z"
    }
   },
   "cell_type": "code",
   "source": [
    "from surprise import Dataset as SurpriseDataset, Reader, SVD, KNNBasic\n",
    "from surprise.model_selection import train_test_split as surprise_train_test_split"
   ],
   "id": "6f4eb0baa8b2ebb5",
   "outputs": [],
   "execution_count": 2
  },
  {
   "cell_type": "code",
   "source": [
    "ratings_path = \"data/inputs/ratings.csv\"\n",
    "books_path = \"data/inputs/books.csv\""
   ],
   "metadata": {
    "collapsed": false,
    "ExecuteTime": {
     "end_time": "2025-06-02T20:21:52.246485Z",
     "start_time": "2025-06-02T20:21:52.244790Z"
    }
   },
   "id": "41235d07e7f3aed6",
   "outputs": [],
   "execution_count": 3
  },
  {
   "cell_type": "code",
   "source": [
    "ratings = pd.read_csv(ratings_path)\n",
    "books =  pd.read_csv(books_path)"
   ],
   "metadata": {
    "collapsed": false,
    "ExecuteTime": {
     "end_time": "2025-06-02T20:21:52.750554Z",
     "start_time": "2025-06-02T20:21:52.253302Z"
    }
   },
   "id": "1d988a80ffcad24c",
   "outputs": [],
   "execution_count": 4
  },
  {
   "metadata": {},
   "cell_type": "markdown",
   "source": "Теги (жанри)",
   "id": "b79e891e98b223b7"
  },
  {
   "metadata": {
    "ExecuteTime": {
     "end_time": "2025-06-02T20:21:52.883170Z",
     "start_time": "2025-06-02T20:21:52.760548Z"
    }
   },
   "cell_type": "code",
   "source": [
    "book_tags = pd.read_csv(\"data/inputs/book_tags.csv\")\n",
    "tags = pd.read_csv(\"data/inputs/tags.csv\")"
   ],
   "id": "40e7937f6ba50b8f",
   "outputs": [],
   "execution_count": 5
  },
  {
   "metadata": {
    "ExecuteTime": {
     "end_time": "2025-06-02T20:22:02.458321Z",
     "start_time": "2025-06-02T20:21:52.893835Z"
    }
   },
   "cell_type": "code",
   "source": [
    "# Об'єднання\n",
    "book_tags = book_tags.merge(tags, on=\"tag_id\", how=\"left\")\n",
    "book_tags = book_tags.merge(books[[\"book_id\", \"goodreads_book_id\"]], on=\"goodreads_book_id\", how=\"inner\")\n",
    "\n",
    "# Залишаємо лише найчастіші теги\n",
    "book_tags = book_tags[book_tags[\"count\"] > 10]\n",
    "\n",
    "# Створюємо mapping: genre_name -> [book_id1, book_id2, ...]\n",
    "\n",
    "tag_to_books = defaultdict(list)\n",
    "for _, row in book_tags.iterrows():\n",
    "    tag = row['tag_name'].lower()\n",
    "    tag_to_books[tag].append((row['book_id'], row['count']))"
   ],
   "id": "10f6c900f8769015",
   "outputs": [],
   "execution_count": 6
  },
  {
   "metadata": {
    "ExecuteTime": {
     "end_time": "2025-06-02T20:22:02.736347Z",
     "start_time": "2025-06-02T20:22:02.715552Z"
    }
   },
   "cell_type": "code",
   "source": [
    "# список популярних жанрів (знадобиться для інтер-у Gradio)\n",
    "top_genres = (\n",
    "    book_tags[\"tag_name\"]\n",
    "    .value_counts()\n",
    "    .loc[lambda s: s > 50]\n",
    "    .head(30)\n",
    "    .index\n",
    "    .tolist()\n",
    ")"
   ],
   "id": "ff544ee57b330e0",
   "outputs": [],
   "execution_count": 7
  },
  {
   "cell_type": "code",
   "source": [
    "print(ratings.shape)\n",
    "ratings.head(3)"
   ],
   "metadata": {
    "collapsed": false,
    "ExecuteTime": {
     "end_time": "2025-06-02T20:22:02.982566Z",
     "start_time": "2025-06-02T20:22:02.976658Z"
    }
   },
   "id": "40a04c2f0cbdb966",
   "outputs": [
    {
     "name": "stdout",
     "output_type": "stream",
     "text": [
      "(5976479, 3)\n"
     ]
    },
    {
     "data": {
      "text/plain": [
       "   user_id  book_id  rating\n",
       "0        1      258       5\n",
       "1        2     4081       4\n",
       "2        2      260       5"
      ],
      "text/html": [
       "<div>\n",
       "<style scoped>\n",
       "    .dataframe tbody tr th:only-of-type {\n",
       "        vertical-align: middle;\n",
       "    }\n",
       "\n",
       "    .dataframe tbody tr th {\n",
       "        vertical-align: top;\n",
       "    }\n",
       "\n",
       "    .dataframe thead th {\n",
       "        text-align: right;\n",
       "    }\n",
       "</style>\n",
       "<table border=\"1\" class=\"dataframe\">\n",
       "  <thead>\n",
       "    <tr style=\"text-align: right;\">\n",
       "      <th></th>\n",
       "      <th>user_id</th>\n",
       "      <th>book_id</th>\n",
       "      <th>rating</th>\n",
       "    </tr>\n",
       "  </thead>\n",
       "  <tbody>\n",
       "    <tr>\n",
       "      <th>0</th>\n",
       "      <td>1</td>\n",
       "      <td>258</td>\n",
       "      <td>5</td>\n",
       "    </tr>\n",
       "    <tr>\n",
       "      <th>1</th>\n",
       "      <td>2</td>\n",
       "      <td>4081</td>\n",
       "      <td>4</td>\n",
       "    </tr>\n",
       "    <tr>\n",
       "      <th>2</th>\n",
       "      <td>2</td>\n",
       "      <td>260</td>\n",
       "      <td>5</td>\n",
       "    </tr>\n",
       "  </tbody>\n",
       "</table>\n",
       "</div>"
      ]
     },
     "execution_count": 8,
     "metadata": {},
     "output_type": "execute_result"
    }
   ],
   "execution_count": 8
  },
  {
   "metadata": {
    "ExecuteTime": {
     "end_time": "2025-06-02T20:22:03.266091Z",
     "start_time": "2025-06-02T20:22:03.259587Z"
    }
   },
   "cell_type": "code",
   "source": "books.head(3)",
   "id": "6f902646e9b5aefb",
   "outputs": [
    {
     "data": {
      "text/plain": [
       "   book_id  goodreads_book_id  best_book_id  work_id  books_count       isbn  \\\n",
       "0        1            2767052       2767052  2792775          272  439023483   \n",
       "1        2                  3             3  4640799          491  439554934   \n",
       "2        3              41865         41865  3212258          226  316015849   \n",
       "\n",
       "         isbn13                      authors  original_publication_year  \\\n",
       "0  9.780439e+12              Suzanne Collins                     2008.0   \n",
       "1  9.780440e+12  J.K. Rowling, Mary GrandPré                     1997.0   \n",
       "2  9.780316e+12              Stephenie Meyer                     2005.0   \n",
       "\n",
       "                             original_title  ... ratings_count  \\\n",
       "0                          The Hunger Games  ...       4780653   \n",
       "1  Harry Potter and the Philosopher's Stone  ...       4602479   \n",
       "2                                  Twilight  ...       3866839   \n",
       "\n",
       "  work_ratings_count  work_text_reviews_count  ratings_1  ratings_2  \\\n",
       "0            4942365                   155254      66715     127936   \n",
       "1            4800065                    75867      75504     101676   \n",
       "2            3916824                    95009     456191     436802   \n",
       "\n",
       "   ratings_3  ratings_4  ratings_5  \\\n",
       "0     560092    1481305    2706317   \n",
       "1     455024    1156318    3011543   \n",
       "2     793319     875073    1355439   \n",
       "\n",
       "                                           image_url  \\\n",
       "0  https://images.gr-assets.com/books/1447303603m...   \n",
       "1  https://images.gr-assets.com/books/1474154022m...   \n",
       "2  https://images.gr-assets.com/books/1361039443m...   \n",
       "\n",
       "                                     small_image_url  \n",
       "0  https://images.gr-assets.com/books/1447303603s...  \n",
       "1  https://images.gr-assets.com/books/1474154022s...  \n",
       "2  https://images.gr-assets.com/books/1361039443s...  \n",
       "\n",
       "[3 rows x 23 columns]"
      ],
      "text/html": [
       "<div>\n",
       "<style scoped>\n",
       "    .dataframe tbody tr th:only-of-type {\n",
       "        vertical-align: middle;\n",
       "    }\n",
       "\n",
       "    .dataframe tbody tr th {\n",
       "        vertical-align: top;\n",
       "    }\n",
       "\n",
       "    .dataframe thead th {\n",
       "        text-align: right;\n",
       "    }\n",
       "</style>\n",
       "<table border=\"1\" class=\"dataframe\">\n",
       "  <thead>\n",
       "    <tr style=\"text-align: right;\">\n",
       "      <th></th>\n",
       "      <th>book_id</th>\n",
       "      <th>goodreads_book_id</th>\n",
       "      <th>best_book_id</th>\n",
       "      <th>work_id</th>\n",
       "      <th>books_count</th>\n",
       "      <th>isbn</th>\n",
       "      <th>isbn13</th>\n",
       "      <th>authors</th>\n",
       "      <th>original_publication_year</th>\n",
       "      <th>original_title</th>\n",
       "      <th>...</th>\n",
       "      <th>ratings_count</th>\n",
       "      <th>work_ratings_count</th>\n",
       "      <th>work_text_reviews_count</th>\n",
       "      <th>ratings_1</th>\n",
       "      <th>ratings_2</th>\n",
       "      <th>ratings_3</th>\n",
       "      <th>ratings_4</th>\n",
       "      <th>ratings_5</th>\n",
       "      <th>image_url</th>\n",
       "      <th>small_image_url</th>\n",
       "    </tr>\n",
       "  </thead>\n",
       "  <tbody>\n",
       "    <tr>\n",
       "      <th>0</th>\n",
       "      <td>1</td>\n",
       "      <td>2767052</td>\n",
       "      <td>2767052</td>\n",
       "      <td>2792775</td>\n",
       "      <td>272</td>\n",
       "      <td>439023483</td>\n",
       "      <td>9.780439e+12</td>\n",
       "      <td>Suzanne Collins</td>\n",
       "      <td>2008.0</td>\n",
       "      <td>The Hunger Games</td>\n",
       "      <td>...</td>\n",
       "      <td>4780653</td>\n",
       "      <td>4942365</td>\n",
       "      <td>155254</td>\n",
       "      <td>66715</td>\n",
       "      <td>127936</td>\n",
       "      <td>560092</td>\n",
       "      <td>1481305</td>\n",
       "      <td>2706317</td>\n",
       "      <td>https://images.gr-assets.com/books/1447303603m...</td>\n",
       "      <td>https://images.gr-assets.com/books/1447303603s...</td>\n",
       "    </tr>\n",
       "    <tr>\n",
       "      <th>1</th>\n",
       "      <td>2</td>\n",
       "      <td>3</td>\n",
       "      <td>3</td>\n",
       "      <td>4640799</td>\n",
       "      <td>491</td>\n",
       "      <td>439554934</td>\n",
       "      <td>9.780440e+12</td>\n",
       "      <td>J.K. Rowling, Mary GrandPré</td>\n",
       "      <td>1997.0</td>\n",
       "      <td>Harry Potter and the Philosopher's Stone</td>\n",
       "      <td>...</td>\n",
       "      <td>4602479</td>\n",
       "      <td>4800065</td>\n",
       "      <td>75867</td>\n",
       "      <td>75504</td>\n",
       "      <td>101676</td>\n",
       "      <td>455024</td>\n",
       "      <td>1156318</td>\n",
       "      <td>3011543</td>\n",
       "      <td>https://images.gr-assets.com/books/1474154022m...</td>\n",
       "      <td>https://images.gr-assets.com/books/1474154022s...</td>\n",
       "    </tr>\n",
       "    <tr>\n",
       "      <th>2</th>\n",
       "      <td>3</td>\n",
       "      <td>41865</td>\n",
       "      <td>41865</td>\n",
       "      <td>3212258</td>\n",
       "      <td>226</td>\n",
       "      <td>316015849</td>\n",
       "      <td>9.780316e+12</td>\n",
       "      <td>Stephenie Meyer</td>\n",
       "      <td>2005.0</td>\n",
       "      <td>Twilight</td>\n",
       "      <td>...</td>\n",
       "      <td>3866839</td>\n",
       "      <td>3916824</td>\n",
       "      <td>95009</td>\n",
       "      <td>456191</td>\n",
       "      <td>436802</td>\n",
       "      <td>793319</td>\n",
       "      <td>875073</td>\n",
       "      <td>1355439</td>\n",
       "      <td>https://images.gr-assets.com/books/1361039443m...</td>\n",
       "      <td>https://images.gr-assets.com/books/1361039443s...</td>\n",
       "    </tr>\n",
       "  </tbody>\n",
       "</table>\n",
       "<p>3 rows × 23 columns</p>\n",
       "</div>"
      ]
     },
     "execution_count": 9,
     "metadata": {},
     "output_type": "execute_result"
    }
   ],
   "execution_count": 9
  },
  {
   "metadata": {
    "ExecuteTime": {
     "end_time": "2025-06-02T20:22:03.549164Z",
     "start_time": "2025-06-02T20:22:03.287658Z"
    }
   },
   "cell_type": "code",
   "source": "len(set(ratings['book_id']).intersection(set(books['book_id'])))",
   "id": "fef436142bc66166",
   "outputs": [
    {
     "data": {
      "text/plain": [
       "10000"
      ]
     },
     "execution_count": 10,
     "metadata": {},
     "output_type": "execute_result"
    }
   ],
   "execution_count": 10
  },
  {
   "metadata": {
    "ExecuteTime": {
     "end_time": "2025-06-02T20:22:04.677128Z",
     "start_time": "2025-06-02T20:22:03.573662Z"
    }
   },
   "cell_type": "code",
   "source": [
    "df = ratings.merge(books, on='book_id', how='inner')\n",
    "df = df[df['user_id'] < 500]"
   ],
   "id": "ab23ba45ba977f87",
   "outputs": [],
   "execution_count": 11
  },
  {
   "metadata": {
    "ExecuteTime": {
     "end_time": "2025-06-02T20:22:04.784207Z",
     "start_time": "2025-06-02T20:22:04.697350Z"
    }
   },
   "cell_type": "code",
   "source": [
    "\n",
    "authorDf = df[['authors', 'book_id']].drop_duplicates()\n",
    "\n",
    "itemFeatureAssignments = [] # item, feature tuples\n",
    "itemFeatureList = [] # list of unique item feature values\n",
    "for ii in range(len(authorDf)):\n",
    "    itemFeatureAssignments.append((authorDf['book_id'].iloc[ii], \n",
    "                          authorDf['authors'].iloc[ii].split(\", \")))\n",
    "    itemFeatureList.extend(authorDf['authors'].iloc[ii].split(\", \"))\n",
    "\n",
    "itemFeatureList = set(itemFeatureList)\n",
    "\n",
    "itemFeatureAssignments[:10]"
   ],
   "id": "1d64dc0a10e3aa73",
   "outputs": [
    {
     "data": {
      "text/plain": [
       "[(258, ['Carlos Ruiz Zafón', 'Lucia Graves']),\n",
       " (4081, ['Tom Wolfe']),\n",
       " (260, ['Dale Carnegie']),\n",
       " (9296, ['Alice  Miller', 'Ruth Ward']),\n",
       " (2318, ['Thomas J. Stanley', 'William D. Danko']),\n",
       " (26, ['Dan Brown']),\n",
       " (315, ['Spencer Johnson', 'Kenneth H. Blanchard']),\n",
       " (33, ['Arthur Golden']),\n",
       " (301, ['Joseph Conrad']),\n",
       " (2686, ['W. Chan Kim', 'Renée Mauborgne'])]"
      ]
     },
     "execution_count": 12,
     "metadata": {},
     "output_type": "execute_result"
    }
   ],
   "execution_count": 12
  },
  {
   "metadata": {
    "ExecuteTime": {
     "end_time": "2025-06-02T20:22:05.093032Z",
     "start_time": "2025-06-02T20:22:05.057121Z"
    }
   },
   "cell_type": "code",
   "source": [
    "# Make LightFM dataset\n",
    "dataset = Dataset()\n",
    "dataset.fit(users = df['user_id'],\n",
    "            items = df['book_id'],\n",
    "            item_features = itemFeatureList,\n",
    "           )\n",
    "item_features = dataset.build_item_features(itemFeatureAssignments)"
   ],
   "id": "d4aac733e0bb72ec",
   "outputs": [],
   "execution_count": 13
  },
  {
   "metadata": {
    "ExecuteTime": {
     "end_time": "2025-06-02T20:22:05.148562Z",
     "start_time": "2025-06-02T20:22:05.096194Z"
    }
   },
   "cell_type": "code",
   "source": [
    "trainDf, testDf = train_test_split(df, train_size=0.8)\n",
    "train, _ = dataset.build_interactions(list(zip(trainDf['user_id'], trainDf['book_id'])))\n",
    "test, _ = dataset.build_interactions(list(zip(testDf['user_id'], testDf['book_id'])))"
   ],
   "id": "ceccfa2e8ddd784b",
   "outputs": [],
   "execution_count": 14
  },
  {
   "metadata": {
    "ExecuteTime": {
     "end_time": "2025-06-02T20:22:05.480432Z",
     "start_time": "2025-06-02T20:22:05.442026Z"
    }
   },
   "cell_type": "code",
   "source": [
    "numEpochs = 1\n",
    "\n",
    "model = LightFM(loss='warp', \n",
    "          learning_rate=0.05,\n",
    "          random_state = 1)\n",
    "model.fit(train, \n",
    "          epochs=numEpochs, \n",
    "          item_features=item_features)"
   ],
   "id": "aa49cd40baea8c01",
   "outputs": [
    {
     "data": {
      "text/plain": [
       "<lightfm.lightfm.LightFM at 0x169de61d0>"
      ]
     },
     "execution_count": 15,
     "metadata": {},
     "output_type": "execute_result"
    }
   ],
   "execution_count": 15
  },
  {
   "metadata": {
    "ExecuteTime": {
     "end_time": "2025-06-02T20:29:25.779513Z",
     "start_time": "2025-06-02T20:29:25.288010Z"
    }
   },
   "cell_type": "code",
   "source": [
    "lfm_precision = precision_at_k(model, test, item_features=item_features, k=10).mean()\n",
    "lfm_recall = recall_at_k(model, test, item_features=item_features, k=10).mean()"
   ],
   "id": "95b2a75259109d5c",
   "outputs": [],
   "execution_count": 23
  },
  {
   "metadata": {
    "ExecuteTime": {
     "end_time": "2025-06-02T20:29:26.844830Z",
     "start_time": "2025-06-02T20:29:26.765485Z"
    }
   },
   "cell_type": "code",
   "source": [
    "# SVD, KNN\n",
    "\n",
    "reader = Reader(rating_scale=(df['rating'].min(), df['rating'].max()))\n",
    "surprise_data = SurpriseDataset.load_from_df(df[['user_id', 'book_id', 'rating']], reader)\n",
    "train_surp, test_surp = surprise_train_test_split(surprise_data, test_size=0.2, random_state=42)\n",
    "\n",
    "train_df_surp = pd.DataFrame(train_surp.all_ratings(), columns=['uid', 'iid', 'rating'])\n",
    "train_df_surp['uid'] = train_df_surp['uid'].astype(int)\n",
    "train_df_surp['iid'] = train_df_surp['iid'].astype(int)\n",
    "test_df_surp = pd.DataFrame(test_surp, columns=['uid', 'iid', 'rating'])"
   ],
   "id": "5468601c12e99900",
   "outputs": [],
   "execution_count": 24
  },
  {
   "metadata": {
    "ExecuteTime": {
     "end_time": "2025-06-02T20:29:28.460243Z",
     "start_time": "2025-06-02T20:29:28.454960Z"
    }
   },
   "cell_type": "code",
   "source": [
    "def precision_recall_at_k(model, train_df, test_df, k=10, threshold=4.0):\n",
    "    user_rated_items = defaultdict(set)\n",
    "    for _, row in train_df.iterrows():\n",
    "        user_rated_items[int(row['uid'])].add(int(row['iid']))\n",
    "    \n",
    "    user_metrics = defaultdict(list)\n",
    "    for uid in test_df['uid'].unique():\n",
    "        seen = user_rated_items.get(uid, set())\n",
    "        all_items = set(df['book_id'].unique())\n",
    "        unseen_items = list(all_items - seen)\n",
    "        preds = [model.predict(uid, iid) for iid in unseen_items]\n",
    "        preds.sort(key=lambda x: x.est, reverse=True)\n",
    "        top_k = preds[:k]\n",
    "\n",
    "        relevant = set(test_df[(test_df['uid'] == uid) & (test_df['rating'] >= threshold)]['iid'])\n",
    "        recommended = set([int(p.iid) for p in top_k])\n",
    "        hits = len(recommended & relevant)\n",
    "\n",
    "        if len(recommended) > 0:\n",
    "            prec = hits / k\n",
    "            rec = hits / len(relevant) if len(relevant) > 0 else 0\n",
    "            user_metrics[uid] = [prec, rec]\n",
    "\n",
    "    precisions = [v[0] for v in user_metrics.values()]\n",
    "    recalls = [v[1] for v in user_metrics.values()]\n",
    "    return np.mean(precisions), np.mean(recalls)"
   ],
   "id": "751ac0c6d8ba981",
   "outputs": [],
   "execution_count": 25
  },
  {
   "metadata": {
    "ExecuteTime": {
     "end_time": "2025-06-02T20:31:52.227301Z",
     "start_time": "2025-06-02T20:29:29.714330Z"
    }
   },
   "cell_type": "code",
   "source": [
    "# --- 5. SVD ---\n",
    "svd = SVD()\n",
    "svd.fit(train_surp)\n",
    "svd_prec, svd_rec = precision_recall_at_k(svd, train_df_surp, test_df_surp)\n",
    "\n",
    "# --- 6. KNN ---\n",
    "knn = KNNBasic(sim_options={'user_based': False})\n",
    "knn.fit(train_surp)\n",
    "knn_prec, knn_rec = precision_recall_at_k(knn, train_df_surp, test_df_surp)\n",
    "\n",
    "# --- 7. Порівняння ---\n",
    "print(\"=== Порівняльні метрики Precision@5 / Recall@5 ===\")\n",
    "print(f\"LightFM:  precision = {lfm_precision:.4f}, recall = {lfm_recall:.4f}\")\n",
    "print(f\"SVD:      precision = {svd_prec:.4f},  recall = {svd_rec:.4f}\")\n",
    "print(f\"KNN:      precision = {knn_prec:.4f},  recall = {knn_rec:.4f}\")"
   ],
   "id": "8955081625a067a9",
   "outputs": [
    {
     "name": "stdout",
     "output_type": "stream",
     "text": [
      "Computing the msd similarity matrix...\n",
      "Done computing similarity matrix.\n",
      "=== Порівняльні метрики Precision@5 / Recall@5 ===\n",
      "LightFM:  precision = 0.0731, recall = 0.0343\n",
      "SVD:      precision = 0.0124,  recall = 0.0110\n",
      "KNN:      precision = 0.0004,  recall = 0.0005\n"
     ]
    }
   ],
   "execution_count": 26
  },
  {
   "metadata": {
    "ExecuteTime": {
     "end_time": "2025-06-02T20:27:35.060284Z",
     "start_time": "2025-06-02T20:27:35.057622Z"
    }
   },
   "cell_type": "code",
   "source": "print((test_df_surp['rating'] >= 4.0).sum())",
   "id": "c74987a4043d6530",
   "outputs": [
    {
     "name": "stdout",
     "output_type": "stream",
     "text": [
      "6896\n"
     ]
    }
   ],
   "execution_count": 21
  },
  {
   "metadata": {
    "ExecuteTime": {
     "end_time": "2025-06-02T20:03:35.322567Z",
     "start_time": "2025-05-11T13:19:21.307580Z"
    }
   },
   "cell_type": "code",
   "source": [
    "# Мапінг з оригінального user_id / book_id до внутрішніх індексів\n",
    "user_id_map, user_feature_map, item_id_map, item_feature_map = dataset.mapping()\n",
    "\n",
    "# Зворотні мапінги\n",
    "inv_user_id_map = {v: k for k, v in user_id_map.items()}\n",
    "inv_item_id_map = {v: k for k, v in item_id_map.items()}\n",
    "\n",
    "book_id_to_title = dict(zip(books['book_id'], books['title']))"
   ],
   "id": "79817d76c64cb13d",
   "outputs": [],
   "execution_count": 15
  },
  {
   "metadata": {
    "ExecuteTime": {
     "end_time": "2025-06-02T20:03:35.322648Z",
     "start_time": "2025-05-11T13:19:21.520592Z"
    }
   },
   "cell_type": "code",
   "source": [
    "def recommend_books_for_user(user_id, model, dataset, item_features, N=5):\n",
    "    if user_id not in user_id_map:\n",
    "        return f\"Користувача з user_id={user_id} не знайдено.\"\n",
    "\n",
    "    internal_uid = user_id_map[user_id]\n",
    "    all_items = list(item_id_map.values())\n",
    "    scores = model.predict(internal_uid, all_items, item_features=item_features)\n",
    "\n",
    "    top_item_indices = np.argsort(-scores)[:N]\n",
    "    top_book_ids = [inv_item_id_map[i] for i in top_item_indices]\n",
    "    top_titles = [book_id_to_title.get(book_id, f\"ID {book_id}\") for book_id in top_book_ids]\n",
    "\n",
    "    return top_titles"
   ],
   "id": "fbeb9ffeb1216885",
   "outputs": [],
   "execution_count": 16
  },
  {
   "metadata": {
    "ExecuteTime": {
     "end_time": "2025-06-02T20:03:35.322729Z",
     "start_time": "2025-05-11T13:19:21.738537Z"
    }
   },
   "cell_type": "code",
   "source": "recommend_books_for_user(42, model, dataset, item_features)\n",
   "id": "6f5af263a01769af",
   "outputs": [
    {
     "data": {
      "text/plain": [
       "['The Catcher in the Rye',\n",
       " 'Harry Potter and the Order of the Phoenix (Harry Potter, #5)',\n",
       " \"Harry Potter and the Sorcerer's Stone (Harry Potter, #1)\",\n",
       " 'Harry Potter and the Chamber of Secrets (Harry Potter, #2)',\n",
       " 'The Kite Runner']"
      ]
     },
     "execution_count": 17,
     "metadata": {},
     "output_type": "execute_result"
    }
   ],
   "execution_count": 17
  },
  {
   "metadata": {
    "ExecuteTime": {
     "end_time": "2025-06-02T20:03:35.322841Z",
     "start_time": "2025-05-11T13:19:21.946043Z"
    }
   },
   "cell_type": "code",
   "source": [
    "print(\"Precision@5:\", precision_at_k(model, test, item_features=item_features, k=5).mean())\n",
    "print(\"Recall@5:\", recall_at_k(model, test, item_features=item_features, k=5).mean())"
   ],
   "id": "75969d3c6ee4d9f8",
   "outputs": [
    {
     "name": "stdout",
     "output_type": "stream",
     "text": [
      "Precision@5: 0.07134269\n",
      "Recall@5: 0.016387978418262117\n"
     ]
    }
   ],
   "execution_count": 18
  },
  {
   "metadata": {},
   "cell_type": "markdown",
   "source": "# Інтерфейс",
   "id": "9609942444baedfb"
  },
  {
   "metadata": {
    "ExecuteTime": {
     "end_time": "2025-06-02T20:03:35.322922Z",
     "start_time": "2025-05-11T13:19:22.636307Z"
    }
   },
   "cell_type": "code",
   "source": [
    "def get_books_read_by_user(user_id):\n",
    "    if user_id not in user_id_map:\n",
    "        return []\n",
    "    return df[df['user_id'] == user_id]['book_id'].map(book_id_to_title).dropna().unique().tolist()"
   ],
   "id": "ffbd89aaac27ec55",
   "outputs": [],
   "execution_count": 19
  },
  {
   "metadata": {
    "ExecuteTime": {
     "end_time": "2025-06-02T20:03:35.322998Z",
     "start_time": "2025-05-11T13:19:22.837311Z"
    }
   },
   "cell_type": "code",
   "source": [
    "def gradio_recommender_with_history(input_user_id):\n",
    "    try:\n",
    "        user_id = int(input_user_id)\n",
    "        read_books = get_books_read_by_user(user_id)\n",
    "        recommendations = recommend_books_for_user(user_id, model, dataset, item_features, N=5)\n",
    "        return (\n",
    "            \"\\n\".join(read_books) if read_books else \"–\",\n",
    "            \"\\n\".join(recommendations) if isinstance(recommendations, list) else recommendations\n",
    "        )\n",
    "    except:\n",
    "        return \"–\", \"Введіть коректний числовий user_id.\"\n"
   ],
   "id": "526ed42c35844720",
   "outputs": [],
   "execution_count": 20
  },
  {
   "metadata": {
    "ExecuteTime": {
     "end_time": "2025-06-02T20:03:35.323073Z",
     "start_time": "2025-05-11T13:19:23.046176Z"
    }
   },
   "cell_type": "code",
   "source": [
    "def recommend_by_genre(selected_genres, top_n=5):\n",
    "    selected_genres = [g.lower() for g in selected_genres]\n",
    "    book_candidates = defaultdict(int)\n",
    "\n",
    "    for genre in selected_genres:\n",
    "        for book_id, count in tag_to_books.get(genre, []):\n",
    "            if book_id in book_id_to_title:\n",
    "                book_candidates[book_id] += count  # накопичуємо значущість\n",
    "\n",
    "    if not book_candidates:\n",
    "        return \"Нічого не знайдено.\"\n",
    "\n",
    "    # Сортуємо книги за сумарною значущістю (count по обраних жанрах)\n",
    "    top_books = sorted(book_candidates.items(), key=lambda x: -x[1])[:top_n]\n",
    "    return \"\\n\".join(f\"{book_id_to_title.get(bid, str(bid))} (відповідність жанру: {score})\"\n",
    "                     for bid, score in top_books)"
   ],
   "id": "fa8a566ff48442e4",
   "outputs": [],
   "execution_count": 21
  },
  {
   "metadata": {
    "ExecuteTime": {
     "end_time": "2025-06-02T20:03:35.323157Z",
     "start_time": "2025-05-11T13:19:23.257953Z"
    }
   },
   "cell_type": "code",
   "source": [
    "with gr.Blocks() as demo:\n",
    "    gr.Markdown(\"## 📚 Персоналізована система рекомендацій книг\")\n",
    "\n",
    "    with gr.Tab(\"Існуючий користувач\"):\n",
    "        user_input = gr.Textbox(label=\"User ID\", placeholder=\"наприклад, 42\")\n",
    "        read_output = gr.Textbox(label=\"Прочитані книги\")\n",
    "        rec_output = gr.Textbox(label=\"Рекомендовані книги\")\n",
    "\n",
    "        recommend_btn = gr.Button(\"Отримати рекомендації\")\n",
    "\n",
    "        def full_recommend(user_id):\n",
    "            read, rec = gradio_recommender_with_history(user_id)\n",
    "            return read, rec\n",
    "\n",
    "        recommend_btn.click(fn=full_recommend, inputs=user_input, outputs=[read_output, rec_output])\n",
    "        \n",
    "    with gr.Tab(\"Новий користувач\"):\n",
    "        genre_input = gr.CheckboxGroup(choices=top_genres, label=\"Оберіть жанри\")\n",
    "        genre_rec_output = gr.Textbox(label=\"Популярні книги за жанрами\")\n",
    "        genre_btn = gr.Button(\"Підібрати\")\n",
    "    \n",
    "        genre_btn.click(fn=recommend_by_genre, inputs=genre_input, outputs=genre_rec_output)\n",
    "\n",
    "\n",
    "demo.launch()\n"
   ],
   "id": "96e078668dc00c30",
   "outputs": [
    {
     "name": "stdout",
     "output_type": "stream",
     "text": [
      "* Running on local URL:  http://127.0.0.1:7860\n",
      "\n",
      "To create a public link, set `share=True` in `launch()`.\n"
     ]
    },
    {
     "data": {
      "text/plain": [
       "<IPython.core.display.HTML object>"
      ],
      "text/html": [
       "<div><iframe src=\"http://127.0.0.1:7860/\" width=\"100%\" height=\"500\" allow=\"autoplay; camera; microphone; clipboard-read; clipboard-write;\" frameborder=\"0\" allowfullscreen></iframe></div>"
      ]
     },
     "metadata": {},
     "output_type": "display_data"
    },
    {
     "data": {
      "text/plain": []
     },
     "execution_count": 22,
     "metadata": {},
     "output_type": "execute_result"
    }
   ],
   "execution_count": 22
  },
  {
   "metadata": {
    "ExecuteTime": {
     "end_time": "2025-06-02T20:03:35.323373Z",
     "start_time": "2025-05-11T13:19:23.666192Z"
    }
   },
   "cell_type": "code",
   "source": "",
   "id": "2348e60c1914019c",
   "outputs": [],
   "execution_count": null
  },
  {
   "metadata": {
    "ExecuteTime": {
     "end_time": "2025-06-02T20:03:35.323459Z",
     "start_time": "2025-05-11T13:19:23.872616Z"
    }
   },
   "cell_type": "code",
   "source": "",
   "id": "ffb2634a24921043",
   "outputs": [],
   "execution_count": null
  },
  {
   "metadata": {},
   "cell_type": "code",
   "outputs": [],
   "execution_count": null,
   "source": "",
   "id": "dde9e5cc50ce76a5"
  }
 ],
 "metadata": {
  "kernelspec": {
   "display_name": "Python 3",
   "language": "python",
   "name": "python3"
  },
  "language_info": {
   "codemirror_mode": {
    "name": "ipython",
    "version": 2
   },
   "file_extension": ".py",
   "mimetype": "text/x-python",
   "name": "python",
   "nbconvert_exporter": "python",
   "pygments_lexer": "ipython2",
   "version": "2.7.6"
  }
 },
 "nbformat": 4,
 "nbformat_minor": 5
}
