{
 "cells": [
  {
   "cell_type": "code",
   "execution_count": 1,
   "id": "initial_id",
   "metadata": {
    "collapsed": true,
    "ExecuteTime": {
     "end_time": "2025-04-21T12:57:20.026373800Z",
     "start_time": "2025-04-21T12:57:19.176593800Z"
    }
   },
   "outputs": [
    {
     "name": "stderr",
     "output_type": "stream",
     "text": [
      "C:\\Users\\Hyperion\\anaconda3\\envs\\recommender_diploma\\lib\\site-packages\\lightfm\\_lightfm_fast.py:9: UserWarning: LightFM was compiled without OpenMP support. Only a single thread will be used.\n",
      "  warnings.warn(\n"
     ]
    }
   ],
   "source": [
    "import pandas as pd\n",
    "import numpy as np\n",
    "from sklearn.preprocessing import LabelEncoder\n",
    "from scipy.sparse import coo_matrix\n",
    "from lightfm import LightFM\n",
    "from lightfm.cross_validation import random_train_test_split\n",
    "from lightfm.evaluation import precision_at_k"
   ]
  },
  {
   "cell_type": "code",
   "execution_count": 2,
   "outputs": [],
   "source": [
    "ratings_url = \"https://raw.githubusercontent.com/zygmuntz/goodbooks-10k/refs/heads/master/ratings.csv\"\n",
    "books_url = \"https://raw.githubusercontent.com/zygmuntz/goodbooks-10k/refs/heads/master/books.csv\""
   ],
   "metadata": {
    "collapsed": false,
    "ExecuteTime": {
     "end_time": "2025-04-21T12:57:20.041615Z",
     "start_time": "2025-04-21T12:57:20.027374700Z"
    }
   },
   "id": "41235d07e7f3aed6"
  },
  {
   "cell_type": "code",
   "execution_count": 3,
   "outputs": [],
   "source": [
    "ratings = pd.read_csv(ratings_url)\n",
    "books =  pd.read_csv(books_url)"
   ],
   "metadata": {
    "collapsed": false,
    "ExecuteTime": {
     "end_time": "2025-04-21T12:59:03.619298900Z",
     "start_time": "2025-04-21T12:57:23.917861900Z"
    }
   },
   "id": "1d988a80ffcad24c"
  },
  {
   "cell_type": "code",
   "execution_count": 4,
   "outputs": [
    {
     "name": "stdout",
     "output_type": "stream",
     "text": [
      "(5976479, 3)\n"
     ]
    },
    {
     "data": {
      "text/plain": "   user_id  book_id  rating\n0        1      258       5\n1        2     4081       4\n2        2      260       5\n3        2     9296       5\n4        2     2318       3",
      "text/html": "<div>\n<style scoped>\n    .dataframe tbody tr th:only-of-type {\n        vertical-align: middle;\n    }\n\n    .dataframe tbody tr th {\n        vertical-align: top;\n    }\n\n    .dataframe thead th {\n        text-align: right;\n    }\n</style>\n<table border=\"1\" class=\"dataframe\">\n  <thead>\n    <tr style=\"text-align: right;\">\n      <th></th>\n      <th>user_id</th>\n      <th>book_id</th>\n      <th>rating</th>\n    </tr>\n  </thead>\n  <tbody>\n    <tr>\n      <th>0</th>\n      <td>1</td>\n      <td>258</td>\n      <td>5</td>\n    </tr>\n    <tr>\n      <th>1</th>\n      <td>2</td>\n      <td>4081</td>\n      <td>4</td>\n    </tr>\n    <tr>\n      <th>2</th>\n      <td>2</td>\n      <td>260</td>\n      <td>5</td>\n    </tr>\n    <tr>\n      <th>3</th>\n      <td>2</td>\n      <td>9296</td>\n      <td>5</td>\n    </tr>\n    <tr>\n      <th>4</th>\n      <td>2</td>\n      <td>2318</td>\n      <td>3</td>\n    </tr>\n  </tbody>\n</table>\n</div>"
     },
     "execution_count": 4,
     "metadata": {},
     "output_type": "execute_result"
    }
   ],
   "source": [
    "print(ratings.shape)\n",
    "ratings.head()"
   ],
   "metadata": {
    "collapsed": false,
    "ExecuteTime": {
     "end_time": "2025-04-21T12:59:03.635689900Z",
     "start_time": "2025-04-21T12:59:03.620299800Z"
    }
   },
   "id": "40a04c2f0cbdb966"
  },
  {
   "cell_type": "code",
   "execution_count": 5,
   "outputs": [
    {
     "name": "stdout",
     "output_type": "stream",
     "text": [
      "(10000, 23)\n"
     ]
    },
    {
     "data": {
      "text/plain": "   book_id  goodreads_book_id  best_book_id  work_id  books_count       isbn  \\\n0        1            2767052       2767052  2792775          272  439023483   \n1        2                  3             3  4640799          491  439554934   \n2        3              41865         41865  3212258          226  316015849   \n3        4               2657          2657  3275794          487   61120081   \n4        5               4671          4671   245494         1356  743273567   \n\n         isbn13                      authors  original_publication_year  \\\n0  9.780439e+12              Suzanne Collins                     2008.0   \n1  9.780440e+12  J.K. Rowling, Mary GrandPré                     1997.0   \n2  9.780316e+12              Stephenie Meyer                     2005.0   \n3  9.780061e+12                   Harper Lee                     1960.0   \n4  9.780743e+12          F. Scott Fitzgerald                     1925.0   \n\n                             original_title  ... ratings_count  \\\n0                          The Hunger Games  ...       4780653   \n1  Harry Potter and the Philosopher's Stone  ...       4602479   \n2                                  Twilight  ...       3866839   \n3                     To Kill a Mockingbird  ...       3198671   \n4                          The Great Gatsby  ...       2683664   \n\n  work_ratings_count  work_text_reviews_count  ratings_1  ratings_2  \\\n0            4942365                   155254      66715     127936   \n1            4800065                    75867      75504     101676   \n2            3916824                    95009     456191     436802   \n3            3340896                    72586      60427     117415   \n4            2773745                    51992      86236     197621   \n\n   ratings_3  ratings_4  ratings_5  \\\n0     560092    1481305    2706317   \n1     455024    1156318    3011543   \n2     793319     875073    1355439   \n3     446835    1001952    1714267   \n4     606158     936012     947718   \n\n                                           image_url  \\\n0  https://images.gr-assets.com/books/1447303603m...   \n1  https://images.gr-assets.com/books/1474154022m...   \n2  https://images.gr-assets.com/books/1361039443m...   \n3  https://images.gr-assets.com/books/1361975680m...   \n4  https://images.gr-assets.com/books/1490528560m...   \n\n                                     small_image_url  \n0  https://images.gr-assets.com/books/1447303603s...  \n1  https://images.gr-assets.com/books/1474154022s...  \n2  https://images.gr-assets.com/books/1361039443s...  \n3  https://images.gr-assets.com/books/1361975680s...  \n4  https://images.gr-assets.com/books/1490528560s...  \n\n[5 rows x 23 columns]",
      "text/html": "<div>\n<style scoped>\n    .dataframe tbody tr th:only-of-type {\n        vertical-align: middle;\n    }\n\n    .dataframe tbody tr th {\n        vertical-align: top;\n    }\n\n    .dataframe thead th {\n        text-align: right;\n    }\n</style>\n<table border=\"1\" class=\"dataframe\">\n  <thead>\n    <tr style=\"text-align: right;\">\n      <th></th>\n      <th>book_id</th>\n      <th>goodreads_book_id</th>\n      <th>best_book_id</th>\n      <th>work_id</th>\n      <th>books_count</th>\n      <th>isbn</th>\n      <th>isbn13</th>\n      <th>authors</th>\n      <th>original_publication_year</th>\n      <th>original_title</th>\n      <th>...</th>\n      <th>ratings_count</th>\n      <th>work_ratings_count</th>\n      <th>work_text_reviews_count</th>\n      <th>ratings_1</th>\n      <th>ratings_2</th>\n      <th>ratings_3</th>\n      <th>ratings_4</th>\n      <th>ratings_5</th>\n      <th>image_url</th>\n      <th>small_image_url</th>\n    </tr>\n  </thead>\n  <tbody>\n    <tr>\n      <th>0</th>\n      <td>1</td>\n      <td>2767052</td>\n      <td>2767052</td>\n      <td>2792775</td>\n      <td>272</td>\n      <td>439023483</td>\n      <td>9.780439e+12</td>\n      <td>Suzanne Collins</td>\n      <td>2008.0</td>\n      <td>The Hunger Games</td>\n      <td>...</td>\n      <td>4780653</td>\n      <td>4942365</td>\n      <td>155254</td>\n      <td>66715</td>\n      <td>127936</td>\n      <td>560092</td>\n      <td>1481305</td>\n      <td>2706317</td>\n      <td>https://images.gr-assets.com/books/1447303603m...</td>\n      <td>https://images.gr-assets.com/books/1447303603s...</td>\n    </tr>\n    <tr>\n      <th>1</th>\n      <td>2</td>\n      <td>3</td>\n      <td>3</td>\n      <td>4640799</td>\n      <td>491</td>\n      <td>439554934</td>\n      <td>9.780440e+12</td>\n      <td>J.K. Rowling, Mary GrandPré</td>\n      <td>1997.0</td>\n      <td>Harry Potter and the Philosopher's Stone</td>\n      <td>...</td>\n      <td>4602479</td>\n      <td>4800065</td>\n      <td>75867</td>\n      <td>75504</td>\n      <td>101676</td>\n      <td>455024</td>\n      <td>1156318</td>\n      <td>3011543</td>\n      <td>https://images.gr-assets.com/books/1474154022m...</td>\n      <td>https://images.gr-assets.com/books/1474154022s...</td>\n    </tr>\n    <tr>\n      <th>2</th>\n      <td>3</td>\n      <td>41865</td>\n      <td>41865</td>\n      <td>3212258</td>\n      <td>226</td>\n      <td>316015849</td>\n      <td>9.780316e+12</td>\n      <td>Stephenie Meyer</td>\n      <td>2005.0</td>\n      <td>Twilight</td>\n      <td>...</td>\n      <td>3866839</td>\n      <td>3916824</td>\n      <td>95009</td>\n      <td>456191</td>\n      <td>436802</td>\n      <td>793319</td>\n      <td>875073</td>\n      <td>1355439</td>\n      <td>https://images.gr-assets.com/books/1361039443m...</td>\n      <td>https://images.gr-assets.com/books/1361039443s...</td>\n    </tr>\n    <tr>\n      <th>3</th>\n      <td>4</td>\n      <td>2657</td>\n      <td>2657</td>\n      <td>3275794</td>\n      <td>487</td>\n      <td>61120081</td>\n      <td>9.780061e+12</td>\n      <td>Harper Lee</td>\n      <td>1960.0</td>\n      <td>To Kill a Mockingbird</td>\n      <td>...</td>\n      <td>3198671</td>\n      <td>3340896</td>\n      <td>72586</td>\n      <td>60427</td>\n      <td>117415</td>\n      <td>446835</td>\n      <td>1001952</td>\n      <td>1714267</td>\n      <td>https://images.gr-assets.com/books/1361975680m...</td>\n      <td>https://images.gr-assets.com/books/1361975680s...</td>\n    </tr>\n    <tr>\n      <th>4</th>\n      <td>5</td>\n      <td>4671</td>\n      <td>4671</td>\n      <td>245494</td>\n      <td>1356</td>\n      <td>743273567</td>\n      <td>9.780743e+12</td>\n      <td>F. Scott Fitzgerald</td>\n      <td>1925.0</td>\n      <td>The Great Gatsby</td>\n      <td>...</td>\n      <td>2683664</td>\n      <td>2773745</td>\n      <td>51992</td>\n      <td>86236</td>\n      <td>197621</td>\n      <td>606158</td>\n      <td>936012</td>\n      <td>947718</td>\n      <td>https://images.gr-assets.com/books/1490528560m...</td>\n      <td>https://images.gr-assets.com/books/1490528560s...</td>\n    </tr>\n  </tbody>\n</table>\n<p>5 rows × 23 columns</p>\n</div>"
     },
     "execution_count": 5,
     "metadata": {},
     "output_type": "execute_result"
    }
   ],
   "source": [
    "print(books.shape)\n",
    "books.head()"
   ],
   "metadata": {
    "collapsed": false,
    "ExecuteTime": {
     "end_time": "2025-04-21T12:59:03.702126600Z",
     "start_time": "2025-04-21T12:59:03.634688800Z"
    }
   },
   "id": "c8ce057cbd79e5de"
  },
  {
   "cell_type": "code",
   "execution_count": 6,
   "outputs": [
    {
     "name": "stdout",
     "output_type": "stream",
     "text": [
      "[5 4 3 2 1]\n"
     ]
    },
    {
     "data": {
      "text/plain": "rating\n4    0.357906\n5    0.331816\n3    0.229385\n2    0.060112\n1    0.020781\nName: proportion, dtype: float64"
     },
     "execution_count": 6,
     "metadata": {},
     "output_type": "execute_result"
    }
   ],
   "source": [
    "print(ratings['rating'].unique())\n",
    "\n",
    "ratings['rating'].value_counts(normalize=True)"
   ],
   "metadata": {
    "collapsed": false,
    "ExecuteTime": {
     "end_time": "2025-04-21T12:59:03.789204400Z",
     "start_time": "2025-04-21T12:59:03.667094Z"
    }
   },
   "id": "c1f36566e3eaa253"
  },
  {
   "cell_type": "code",
   "execution_count": 7,
   "outputs": [],
   "source": [
    "# Залишаємо лише позитивні взаємодії\n",
    "ratings = ratings[ratings['rating'] >= 4]"
   ],
   "metadata": {
    "collapsed": false,
    "ExecuteTime": {
     "end_time": "2025-04-21T12:59:03.851261600Z",
     "start_time": "2025-04-21T12:59:03.744163700Z"
    }
   },
   "id": "980a3a5371427259"
  },
  {
   "cell_type": "code",
   "execution_count": 8,
   "outputs": [],
   "source": [
    "# LightFM працює з розрідженими матрицями формату scipy.sparse, де індекси — числові (0, 1, 2, …).\n",
    "\n",
    "user_encoder = LabelEncoder()\n",
    "item_encoder = LabelEncoder()\n",
    "\n",
    "ratings['user_idx'] = user_encoder.fit_transform(ratings['user_id'])\n",
    "ratings['item_idx'] = item_encoder.fit_transform(ratings['book_id'])\n",
    "\n",
    "num_users = ratings['user_idx'].nunique()\n",
    "num_items = ratings['item_idx'].nunique()"
   ],
   "metadata": {
    "collapsed": false,
    "ExecuteTime": {
     "end_time": "2025-04-21T12:59:04.345710900Z",
     "start_time": "2025-04-21T12:59:03.808221800Z"
    }
   },
   "id": "fd30d9ecab076c9f"
  },
  {
   "cell_type": "code",
   "execution_count": 9,
   "outputs": [
    {
     "data": {
      "text/plain": "   user_id  book_id  rating  user_idx  item_idx\n0        1      258       5         0       257\n1        2     4081       4         1      4080\n2        2      260       5         1       259\n3        2     9296       5         1      9295\n5        2       26       4         1        25",
      "text/html": "<div>\n<style scoped>\n    .dataframe tbody tr th:only-of-type {\n        vertical-align: middle;\n    }\n\n    .dataframe tbody tr th {\n        vertical-align: top;\n    }\n\n    .dataframe thead th {\n        text-align: right;\n    }\n</style>\n<table border=\"1\" class=\"dataframe\">\n  <thead>\n    <tr style=\"text-align: right;\">\n      <th></th>\n      <th>user_id</th>\n      <th>book_id</th>\n      <th>rating</th>\n      <th>user_idx</th>\n      <th>item_idx</th>\n    </tr>\n  </thead>\n  <tbody>\n    <tr>\n      <th>0</th>\n      <td>1</td>\n      <td>258</td>\n      <td>5</td>\n      <td>0</td>\n      <td>257</td>\n    </tr>\n    <tr>\n      <th>1</th>\n      <td>2</td>\n      <td>4081</td>\n      <td>4</td>\n      <td>1</td>\n      <td>4080</td>\n    </tr>\n    <tr>\n      <th>2</th>\n      <td>2</td>\n      <td>260</td>\n      <td>5</td>\n      <td>1</td>\n      <td>259</td>\n    </tr>\n    <tr>\n      <th>3</th>\n      <td>2</td>\n      <td>9296</td>\n      <td>5</td>\n      <td>1</td>\n      <td>9295</td>\n    </tr>\n    <tr>\n      <th>5</th>\n      <td>2</td>\n      <td>26</td>\n      <td>4</td>\n      <td>1</td>\n      <td>25</td>\n    </tr>\n  </tbody>\n</table>\n</div>"
     },
     "execution_count": 9,
     "metadata": {},
     "output_type": "execute_result"
    }
   ],
   "source": [
    "ratings.head(5)"
   ],
   "metadata": {
    "collapsed": false,
    "ExecuteTime": {
     "end_time": "2025-04-21T12:59:04.361725600Z",
     "start_time": "2025-04-21T12:59:04.346711700Z"
    }
   },
   "id": "f9354950ae6e5898"
  },
  {
   "cell_type": "code",
   "execution_count": 10,
   "outputs": [],
   "source": [
    "# Формуємо матрицю взаємодій (interaction matrix)\n",
    "\n",
    "interaction_matrix = coo_matrix(\n",
    "    (np.ones(ratings.shape[0]), (ratings['user_idx'], ratings['item_idx'])),\n",
    "    shape=(num_users, num_items)\n",
    ")"
   ],
   "metadata": {
    "collapsed": false,
    "ExecuteTime": {
     "end_time": "2025-04-21T12:59:04.439799200Z",
     "start_time": "2025-04-21T12:59:04.362726200Z"
    }
   },
   "id": "d79062da965a7c15"
  },
  {
   "cell_type": "code",
   "execution_count": 11,
   "outputs": [],
   "source": [
    "# Розділення на train/test \n",
    "train, test = random_train_test_split(interaction_matrix, test_percentage=0.2, random_state=42)"
   ],
   "metadata": {
    "collapsed": false,
    "ExecuteTime": {
     "end_time": "2025-04-21T12:59:04.584931300Z",
     "start_time": "2025-04-21T12:59:04.394758100Z"
    }
   },
   "id": "d300ee91296c499f"
  },
  {
   "cell_type": "code",
   "execution_count": null,
   "outputs": [],
   "source": [
    "model = LightFM(loss='warp')  # або 'bpr', 'logistic'?\n",
    "model.fit(train, epochs=1, num_threads=4)"
   ],
   "metadata": {
    "collapsed": false,
    "is_executing": true,
    "ExecuteTime": {
     "start_time": "2025-04-21T12:59:49.086287200Z"
    }
   },
   "id": "aa46f004a81fe43c"
  },
  {
   "cell_type": "code",
   "execution_count": null,
   "outputs": [],
   "source": [
    "# Оцінка точності\n",
    "precision = precision_at_k(model, test, k=5).mean()\n",
    "print(f\"Precision@5: {precision:.4f}\")"
   ],
   "metadata": {
    "collapsed": false
   },
   "id": "76e1e316e48f35d6"
  },
  {
   "cell_type": "code",
   "execution_count": null,
   "outputs": [],
   "source": [
    "# Побудова словника відповідностей\n",
    "user_idx_to_id = dict(enumerate(user_encoder.inverse_transform(range(num_users))))\n",
    "item_idx_to_id = dict(enumerate(item_encoder.inverse_transform(range(num_items))))\n",
    "book_id_to_title = dict(zip(books['book_id'], books['title']))"
   ],
   "metadata": {
    "collapsed": false
   },
   "id": "8052b179af81d5bb"
  },
  {
   "cell_type": "code",
   "execution_count": null,
   "outputs": [],
   "source": [
    "# Функція генерації рекомендацій\n",
    "def recommend_books(user_id, n=5):\n",
    "    try:\n",
    "        user_idx = user_encoder.transform([user_id])[0]\n",
    "    except:\n",
    "        return f\"Користувача з ID {user_id} не знайдено.\"\n",
    "\n",
    "    scores = model.predict(user_idx, np.arange(num_items))\n",
    "    top_items = np.argsort(-scores)[:n]\n",
    "\n",
    "    recommended_book_ids = [item_idx_to_id[i] for i in top_items]\n",
    "    titles = [book_id_to_title.get(book_id, f\"[book_id {book_id}]\") for book_id in recommended_book_ids]\n",
    "    return titles\n",
    "\n",
    "example_user_id = ratings['user_id'].sample(1).values[0]\n",
    "print(f\"\\nРекомендації для користувача {example_user_id}:\")\n",
    "print(recommend_books(example_user_id))"
   ],
   "metadata": {
    "collapsed": false
   },
   "id": "2425d99e84631940"
  }
 ],
 "metadata": {
  "kernelspec": {
   "display_name": "Python 3",
   "language": "python",
   "name": "python3"
  },
  "language_info": {
   "codemirror_mode": {
    "name": "ipython",
    "version": 2
   },
   "file_extension": ".py",
   "mimetype": "text/x-python",
   "name": "python",
   "nbconvert_exporter": "python",
   "pygments_lexer": "ipython2",
   "version": "2.7.6"
  }
 },
 "nbformat": 4,
 "nbformat_minor": 5
}
